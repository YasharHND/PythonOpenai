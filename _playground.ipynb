{
 "cells": [
  {
   "cell_type": "code",
   "execution_count": null,
   "id": "initial_id",
   "metadata": {
    "collapsed": true
   },
   "outputs": [],
   "source": [
    "import webbrowser\n",
    "from datetime import datetime\n",
    "\n",
    "from generate_ideas import generate_ideas\n",
    "from generate_image import generate_image"
   ]
  },
  {
   "cell_type": "code",
   "execution_count": null,
   "outputs": [],
   "source": [
    "quotes = generate_ideas(\"10 top Chandler quotes on FRIENDS\")\n",
    "for q in quotes:\n",
    "    print(f\"- {q}\")"
   ],
   "metadata": {
    "collapsed": false
   },
   "id": "6161317735ac55b4"
  },
  {
   "cell_type": "code",
   "execution_count": null,
   "outputs": [],
   "source": [
    "image_url = generate_image(\"Could I BE wearing any more clothes? Chandler F.R.I.E.N.D.S\", \"1024x1792\")\n",
    "print(datetime.now())\n",
    "webbrowser.open(image_url)"
   ],
   "metadata": {
    "collapsed": false
   },
   "id": "8a5caf82d467aff8"
  }
 ],
 "metadata": {
  "kernelspec": {
   "display_name": "Python 3",
   "language": "python",
   "name": "python3"
  },
  "language_info": {
   "codemirror_mode": {
    "name": "ipython",
    "version": 2
   },
   "file_extension": ".py",
   "mimetype": "text/x-python",
   "name": "python",
   "nbconvert_exporter": "python",
   "pygments_lexer": "ipython2",
   "version": "2.7.6"
  }
 },
 "nbformat": 4,
 "nbformat_minor": 5
}
