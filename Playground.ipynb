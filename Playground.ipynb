{
 "cells": [
  {
   "cell_type": "code",
   "execution_count": null,
   "outputs": [],
   "source": [
    "from OpenAiClient import list_models\n",
    "\n",
    "for model in list_models():\n",
    "    print(model.id)"
   ],
   "metadata": {
    "collapsed": false
   },
   "id": "aa17ab5e050bcd5"
  },
  {
   "cell_type": "code",
   "execution_count": null,
   "outputs": [],
   "source": [
    "from OpenAiClient import generate_ideas\n",
    "\n",
    "for idea in generate_ideas(prompt=\"trending Christmas ideas to print on T-Shirt\"):\n",
    "    print(f\"- {idea}\")"
   ],
   "metadata": {
    "collapsed": false
   },
   "id": "6161317735ac55b4"
  },
  {
   "cell_type": "code",
   "execution_count": null,
   "outputs": [],
   "source": [
    "import webbrowser\n",
    "\n",
    "from OpenAiClient import generate_image\n",
    "\n",
    "image_url = generate_image(prompt=\"simplified image of a funny panda playing basketball on a solid white background. Make sure all the elements fit in the image\", size=\"1024x1024\")\n",
    "webbrowser.open(image_url)"
   ],
   "metadata": {
    "collapsed": false
   },
   "id": "d3e6f6dba2a31402"
  },
  {
   "cell_type": "code",
   "execution_count": null,
   "outputs": [],
   "source": [
    "from OpenAiClient import generate_image_title\n",
    "\n",
    "title = generate_image_title(image_url=\"https://s3.amazonaws.com/intactarts.images/2023-12-13_08-45-50_65617a8b-dd1e-4927-a2a9-52c80647fe98_03_6dc00c43-ff05-4eae-9f83-87eccb5f0b89_ORIGINAL.png\")\n",
    "print(f\">>>{title}<<<\")"
   ],
   "metadata": {
    "collapsed": false
   },
   "id": "10d72cfd12a73343"
  },
  {
   "cell_type": "code",
   "execution_count": null,
   "outputs": [],
   "source": [
    "from OpenAiClient import suggest_image_tags\n",
    "\n",
    "for tag in suggest_image_tags(image_url=\"https://s3.amazonaws.com/intactarts.images/preview/2023-12-13_08-45-50_65617a8b-dd1e-4927-a2a9-52c80647fe98_03_6dc00c43-ff05-4eae-9f83-87eccb5f0b89_REMOVED_BACKGROUND.jpg\", max_count=5):\n",
    "    print(f\"- {tag}\")"
   ],
   "metadata": {
    "collapsed": false
   },
   "id": "508576342e103292"
  }
 ],
 "metadata": {
  "kernelspec": {
   "display_name": "Python 3",
   "language": "python",
   "name": "python3"
  },
  "language_info": {
   "codemirror_mode": {
    "name": "ipython",
    "version": 2
   },
   "file_extension": ".py",
   "mimetype": "text/x-python",
   "name": "python",
   "nbconvert_exporter": "python",
   "pygments_lexer": "ipython2",
   "version": "2.7.6"
  }
 },
 "nbformat": 4,
 "nbformat_minor": 5
}
