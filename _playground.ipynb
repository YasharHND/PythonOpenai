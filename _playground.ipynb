{
 "cells": [
  {
   "cell_type": "code",
   "execution_count": null,
   "outputs": [],
   "source": [
    "from generate_ideas import generate_ideas\n",
    "\n",
    "ideas = generate_ideas(\"trending Christmas ideas to print on T-Shirt\")\n",
    "for idea in ideas:\n",
    "    print(f\"- {idea}\")"
   ],
   "metadata": {
    "collapsed": false
   },
   "id": "6161317735ac55b4"
  },
  {
   "cell_type": "code",
   "execution_count": null,
   "outputs": [],
   "source": [
    "import webbrowser\n",
    "\n",
    "from generate_image import generate_image\n",
    "\n",
    "image_url = generate_image(\"Logo for 'Intact Arts' without including text\", \"1024x1024\")\n",
    "print(image_url)\n",
    "webbrowser.open(image_url)"
   ],
   "metadata": {
    "collapsed": false
   },
   "id": "d3e6f6dba2a31402"
  }
 ],
 "metadata": {
  "kernelspec": {
   "display_name": "Python 3",
   "language": "python",
   "name": "python3"
  },
  "language_info": {
   "codemirror_mode": {
    "name": "ipython",
    "version": 2
   },
   "file_extension": ".py",
   "mimetype": "text/x-python",
   "name": "python",
   "nbconvert_exporter": "python",
   "pygments_lexer": "ipython2",
   "version": "2.7.6"
  }
 },
 "nbformat": 4,
 "nbformat_minor": 5
}
