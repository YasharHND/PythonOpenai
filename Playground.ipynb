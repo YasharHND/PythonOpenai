{
 "cells": [
  {
   "cell_type": "code",
   "execution_count": null,
   "outputs": [],
   "source": [
    "from OpenAiClient import list_models\n",
    "\n",
    "for model in list_models():\n",
    "    print(model.id)"
   ],
   "metadata": {
    "collapsed": false
   },
   "id": "aa17ab5e050bcd5"
  },
  {
   "cell_type": "code",
   "execution_count": null,
   "outputs": [],
   "source": [
    "from OpenAiClient import generate_ideas\n",
    "\n",
    "for idea in generate_ideas(\"trending Christmas ideas to print on T-Shirt\"):\n",
    "    print(f\"- {idea}\")"
   ],
   "metadata": {
    "collapsed": false
   },
   "id": "6161317735ac55b4"
  },
  {
   "cell_type": "code",
   "execution_count": null,
   "outputs": [],
   "source": [
    "import webbrowser\n",
    "\n",
    "from OpenAiClient import generate_image\n",
    "\n",
    "for _ in range(5):\n",
    "    image_url = generate_image(prompt=\"simplified image of a funny panda playing basketball on a solid white background. Make sure all the elements fit in the image\", size=\"1024x1024\")\n",
    "    webbrowser.open(image_url)"
   ],
   "metadata": {
    "collapsed": false
   },
   "id": "d3e6f6dba2a31402"
  },
  {
   "cell_type": "code",
   "execution_count": null,
   "outputs": [],
   "source": [
    "from OpenAiClient import generate_image_titles\n",
    "\n",
    "prompt = \"simplified image of a funny panda playing basketball on a solid white background. Make sure all the elements fit in the image\"\n",
    "\n",
    "for title in generate_image_titles(prompt, 5):\n",
    "    print(f\">>>{title}<<<\")"
   ],
   "metadata": {
    "collapsed": false
   },
   "id": "10d72cfd12a73343"
  },
  {
   "cell_type": "code",
   "execution_count": null,
   "outputs": [],
   "source": [],
   "metadata": {
    "collapsed": false
   },
   "id": "508576342e103292"
  }
 ],
 "metadata": {
  "kernelspec": {
   "display_name": "Python 3",
   "language": "python",
   "name": "python3"
  },
  "language_info": {
   "codemirror_mode": {
    "name": "ipython",
    "version": 2
   },
   "file_extension": ".py",
   "mimetype": "text/x-python",
   "name": "python",
   "nbconvert_exporter": "python",
   "pygments_lexer": "ipython2",
   "version": "2.7.6"
  }
 },
 "nbformat": 4,
 "nbformat_minor": 5
}
