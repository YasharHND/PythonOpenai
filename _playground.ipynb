{
 "cells": [
  {
   "cell_type": "code",
   "execution_count": null,
   "id": "initial_id",
   "metadata": {
    "collapsed": true
   },
   "outputs": [],
   "source": [
    "import os\n",
    "import webbrowser\n",
    "from time import sleep\n",
    "\n",
    "from generate_ideas import generate_ideas\n",
    "from generate_image import generate_image"
   ]
  },
  {
   "cell_type": "code",
   "execution_count": null,
   "outputs": [],
   "source": [
    "quotes = generate_ideas(\"10 top Chandler quotes on FRIENDS\")\n",
    "for q in quotes:\n",
    "    print(f\"- {q}\")"
   ],
   "metadata": {
    "collapsed": false
   },
   "id": "6161317735ac55b4"
  },
  {
   "cell_type": "code",
   "execution_count": null,
   "outputs": [],
   "source": [
    "image_url = generate_image(\"Logo for 'Intact Arts' without including text\", \"1024x1024\")\n",
    "print(image_url)\n",
    "webbrowser.open(image_url)\n",
    "sleep(60)\n",
    "os.system(\"afplay /Users/yashar/Music/notify.mp3\")"
   ],
   "metadata": {
    "collapsed": false
   },
   "id": "d3e6f6dba2a31402"
  }
 ],
 "metadata": {
  "kernelspec": {
   "display_name": "Python 3",
   "language": "python",
   "name": "python3"
  },
  "language_info": {
   "codemirror_mode": {
    "name": "ipython",
    "version": 2
   },
   "file_extension": ".py",
   "mimetype": "text/x-python",
   "name": "python",
   "nbconvert_exporter": "python",
   "pygments_lexer": "ipython2",
   "version": "2.7.6"
  }
 },
 "nbformat": 4,
 "nbformat_minor": 5
}
